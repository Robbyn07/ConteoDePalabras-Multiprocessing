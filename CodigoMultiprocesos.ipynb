{
 "cells": [
  {
   "cell_type": "code",
   "execution_count": 6,
   "metadata": {},
   "outputs": [
    {
     "data": {
      "text/html": "<div>\n<style scoped>\n    .dataframe tbody tr th:only-of-type {\n        vertical-align: middle;\n    }\n\n    .dataframe tbody tr th {\n        vertical-align: top;\n    }\n\n    .dataframe thead th {\n        text-align: right;\n    }\n</style>\n<table border=\"1\" class=\"dataframe\">\n  <thead>\n    <tr style=\"text-align: right;\">\n      <th></th>\n      <th>estrellas</th>\n      <th>titulo</th>\n      <th>opinion</th>\n    </tr>\n  </thead>\n  <tbody>\n    <tr>\n      <th>0</th>\n      <td>1</td>\n      <td>Buyer beware</td>\n      <td>self-published book, want know why--read parag...</td>\n    </tr>\n    <tr>\n      <th>1</th>\n      <td>1</td>\n      <td>The Worst!</td>\n      <td>complete waste time. typographical errors, poo...</td>\n    </tr>\n    <tr>\n      <th>2</th>\n      <td>1</td>\n      <td>Oh please</td>\n      <td>guess romance novel lover one, discerning one....</td>\n    </tr>\n  </tbody>\n</table>\n</div>",
      "text/plain": "   estrellas        titulo                                            opinion\n0          1  Buyer beware  self-published book, want know why--read parag...\n1          1    The Worst!  complete waste time. typographical errors, poo...\n2          1     Oh please  guess romance novel lover one, discerning one...."
     },
     "execution_count": 6,
     "metadata": {},
     "output_type": "execute_result"
    }
   ],
   "source": "#Lectura de los archivos\nimport time\nimport numpy as np \nimport pandas as pd\nfrom collections import Counter\ndatos1 = pd.read_csv('1estrella.csv')\ndatos2 = pd.read_csv('2estrella.csv')\ndatos3 = pd.read_csv('3estrella.csv')\ndatos4 = pd.read_csv('4estrella.csv')\ndatos5 = pd.read_csv('5estrella.csv')\n\ndatos1.head(3)"
  },
  {
   "cell_type": "code",
   "execution_count": 4,
   "metadata": {},
   "outputs": [],
   "source": "datos1 = datos1.head(len(datos1)/2)\ndatos2 = datos2.head(len(datos2)/2)\ndatos3 = datos3.head(len(datos3)/2)\ndatos4 = datos4.head(len(datos4)/2)\ndatos5 = datos5.head(len(datos5)/2)"
  },
  {
   "cell_type": "code",
   "execution_count": 7,
   "metadata": {},
   "outputs": [
    {
     "name": "stdout",
     "output_type": "stream",
     "text": "------------------------\n20 palabras mas frecuentes con 5 estrellas es: \n[('book', 229944), ('great', 170326), ('like', 132957), ('love', 106898), ('good', 97411), ('would', 90506), ('really', 84255), ('best', 78714), ('first', 67708), ('well', 66329), ('time', 61279), ('also', 61208), ('much', 59402), ('even', 59366), ('many', 56313), ('recommend', 55904), ('movie', 52785), ('new', 51039), ('bought', 49494), ('use', 48637)]\n------------------------\n------------------------\n20 palabras mas frecuentes con 1 estrellas es: \n[('book', 199990), ('would', 163285), ('like', 152465), ('even', 108140), ('buy', 86469), ('good', 86054), ('time', 78542), ('bought', 73831), ('first', 71316), ('really', 70563), ('movie', 69872), ('product', 66947), ('much', 65231), ('never', 63891), ('waste', 55067), ('money', 54211), ('make', 52616), ('back', 52096), ('use', 51326), ('better', 49928)]\n------------------------\n------------------------\n------------------------\n20 palabras mas frecuentes con 4 estrellas es: \n[('book', 221764), ('good', 177741), ('like', 172003), ('great', 150165), ('would', 128766), ('really', 105017), ('little', 81152), ('well', 75485), ('first', 72667), ('much', 71754), ('love', 65395), ('also', 63694), ('time', 61256), ('still', 60605), ('use', 57854), ('movie', 57681), ('even', 55322), ('many', 53833), ('story', 50747), ('new', 49665)]\n------------------------\n20 palabras mas frecuentes con 3 estrellas es: \n[('book', 233861), ('like', 188412), ('good', 175756), ('would', 160916), ('really', 110704), ('much', 99379), ('great', 88767), ('little', 79293), ('first', 76560), ('movie', 67620), ('better', 65180), ('time', 63645), ('still', 61066), ('even', 59539), ('well', 58035), ('also', 56172), ('use', 55595), ('many', 54902), ('story', 54881), ('bought', 51471)]\n------------------------\n------------------------\n20 palabras mas frecuentes con 2 estrellas es: \n[('book', 241757), ('like', 187546), ('would', 172746), ('good', 128505), ('really', 108958), ('much', 105267), ('even', 85543), ('first', 80258), ('time', 71498), ('better', 69063), ('great', 67421), ('movie', 67186), ('bought', 66536), (\"didn't\", 60519), ('two', 59390), ('little', 59005), ('use', 57267), ('many', 56659), ('buy', 55793), ('make', 53461)]\n------------------------\nTiempo de ejecucion: 37.1205971241\n"
    }
   ],
   "source": "import multiprocessing\n\n\ndef conteo(numEstrella, datos):\n    listPalabras = []\n    for i in datos['opinion']:\n        listPalabras += i.split()\n    cuenta = Counter(listPalabras)\n    print(\"------------------------\")\n    print(\"20 palabras mas frecuentes con \"+ str(numEstrella)+\" estrellas es: \\n\" + str(cuenta.most_common(20)))\n    print(\"------------------------\")\n    \n    \n\nif __name__ == '__main__':\n    tinicio = time.time()\n    pEstrella1 = multiprocessing.Process(target=conteo, args=(\"1\", datos1,))\n    pEstrella2 = multiprocessing.Process(target=conteo, args=(\"2\", datos2,))\n    pEstrella3 = multiprocessing.Process(target=conteo, args=(\"3\", datos3,))\n    pEstrella4 = multiprocessing.Process(target=conteo, args=(\"4\", datos4,))\n    pEstrella5 = multiprocessing.Process(target=conteo, args=(\"5\", datos5,))\n    \n    pEstrella1.start()\n    pEstrella2.start()\n    pEstrella3.start()\n    pEstrella4.start()\n    pEstrella5.start()\n    \n    pEstrella1.join()\n    pEstrella2.join()\n    pEstrella3.join()\n    pEstrella4.join()\n    pEstrella5.join()\n    \n    tfin = time.time() - tinicio\n    \n    print(\"Tiempo de ejecucion: \" + str(tfin))\n    "
  },
  {
   "cell_type": "code",
   "execution_count": 9,
   "metadata": {},
   "outputs": [
    {
     "name": "stdout",
     "output_type": "stream",
     "text": "Palabras mas frecuentes con 5 estrellas\n"
    }
   ],
   "source": "est = \"5\"\nprint(\"Palabras mas frecuentes con \"+ est+ \" estrellas\")"
  }
 ],
 "metadata": {
  "kernelspec": {
   "display_name": "Python 2",
   "language": "python",
   "name": "python2"
  },
  "language_info": {
   "codemirror_mode": {
    "name": "ipython",
    "version": 2
   },
   "file_extension": ".py",
   "mimetype": "text/x-python",
   "name": "python",
   "nbconvert_exporter": "python",
   "pygments_lexer": "ipython2",
   "version": "2.7.16"
  }
 },
 "nbformat": 4,
 "nbformat_minor": 4
}
