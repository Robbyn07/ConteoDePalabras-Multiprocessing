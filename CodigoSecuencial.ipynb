{
 "cells": [
  {
   "cell_type": "code",
   "execution_count": 3,
   "metadata": {},
   "outputs": [
    {
     "name": "stdout",
     "output_type": "stream",
     "text": "------------------------\n20 palabras mas frecuentes con 1 estrellas es: \n[('book', 199990), ('would', 163285), ('like', 152465), ('even', 108140), ('buy', 86469), ('good', 86054), ('time', 78542), ('bought', 73831), ('first', 71316), ('really', 70563), ('movie', 69872), ('product', 66947), ('much', 65231), ('never', 63891), ('waste', 55067), ('money', 54211), ('make', 52616), ('back', 52096), ('use', 51326), ('better', 49928)]\n------------------------\n------------------------\n20 palabras mas frecuentes con 2 estrellas es: \n[('book', 241757), ('like', 187546), ('would', 172746), ('good', 128505), ('really', 108958), ('much', 105267), ('even', 85543), ('first', 80258), ('time', 71498), ('better', 69063), ('great', 67421), ('movie', 67186), ('bought', 66536), (\"didn't\", 60519), ('two', 59390), ('little', 59005), ('use', 57267), ('many', 56659), ('buy', 55793), ('make', 53461)]\n------------------------\n------------------------\n20 palabras mas frecuentes con 3 estrellas es: \n[('book', 233861), ('like', 188412), ('good', 175756), ('would', 160916), ('really', 110704), ('much', 99379), ('great', 88767), ('little', 79293), ('first', 76560), ('movie', 67620), ('better', 65180), ('time', 63645), ('still', 61066), ('even', 59539), ('well', 58035), ('also', 56172), ('use', 55595), ('many', 54902), ('story', 54881), ('bought', 51471)]\n------------------------\n------------------------\n20 palabras mas frecuentes con 4 estrellas es: \n[('book', 221764), ('good', 177741), ('like', 172003), ('great', 150165), ('would', 128766), ('really', 105017), ('little', 81152), ('well', 75485), ('first', 72667), ('much', 71754), ('love', 65395), ('also', 63694), ('time', 61256), ('still', 60605), ('use', 57854), ('movie', 57681), ('even', 55322), ('many', 53833), ('story', 50747), ('new', 49665)]\n------------------------\n------------------------\n20 palabras mas frecuentes con 5 estrellas es: \n[('book', 229944), ('great', 170326), ('like', 132957), ('love', 106898), ('good', 97411), ('would', 90506), ('really', 84255), ('best', 78714), ('first', 67708), ('well', 66329), ('time', 61279), ('also', 61208), ('much', 59402), ('even', 59366), ('many', 56313), ('recommend', 55904), ('movie', 52785), ('new', 51039), ('bought', 49494), ('use', 48637)]\n------------------------\nTiempo de ejecucion: 58.931292057\n"
    }
   ],
   "source": "#Lectura de los archivos\nimport time\nimport numpy as np \nimport pandas as pd\nfrom collections import Counter\nimport multiprocessing\ndatos1 = pd.read_csv('1estrella.csv')\ndatos2 = pd.read_csv('2estrella.csv')\ndatos3 = pd.read_csv('3estrella.csv')\ndatos4 = pd.read_csv('4estrella.csv')\ndatos5 = pd.read_csv('5estrella.csv')\n\n#Proceso\ntinicio = time.time()\n\n\nlistPalabras = []\nfor i in datos1['opinion']:\n    listPalabras += i.split()\ncuenta = Counter(listPalabras)\nprint(\"------------------------\")\nprint(\"20 palabras mas frecuentes con 1 estrellas es: \\n\" + str(cuenta.most_common(20)))\nprint(\"------------------------\")\n\n\nlistPalabras = []\nfor i in datos2['opinion']:\n    listPalabras += i.split()\ncuenta = Counter(listPalabras)\nprint(\"------------------------\")\nprint(\"20 palabras mas frecuentes con 2 estrellas es: \\n\" + str(cuenta.most_common(20)))\nprint(\"------------------------\")\n\n\nlistPalabras = []\nfor i in datos3['opinion']:\n    listPalabras += i.split()\ncuenta = Counter(listPalabras)\nprint(\"------------------------\")\nprint(\"20 palabras mas frecuentes con 3 estrellas es: \\n\" + str(cuenta.most_common(20)))\nprint(\"------------------------\")\n\n\nlistPalabras = []\nfor i in datos4['opinion']:\n    listPalabras += i.split()\ncuenta = Counter(listPalabras)\nprint(\"------------------------\")\nprint(\"20 palabras mas frecuentes con 4 estrellas es: \\n\" + str(cuenta.most_common(20)))\nprint(\"------------------------\")\n\n\nlistPalabras = []\nfor i in datos5['opinion']:\n    listPalabras += i.split()\ncuenta = Counter(listPalabras)\nprint(\"------------------------\")\nprint(\"20 palabras mas frecuentes con 5 estrellas es: \\n\" + str(cuenta.most_common(20)))\nprint(\"------------------------\")\n\n\ntfin = time.time() - tinicio\n    \nprint(\"Tiempo de ejecucion: \" + str(tfin))"
  }
 ],
 "metadata": {
  "kernelspec": {
   "display_name": "Python 2",
   "language": "python",
   "name": "python2"
  },
  "language_info": {
   "codemirror_mode": {
    "name": "ipython",
    "version": 2
   },
   "file_extension": ".py",
   "mimetype": "text/x-python",
   "name": "python",
   "nbconvert_exporter": "python",
   "pygments_lexer": "ipython2",
   "version": "2.7.16"
  }
 },
 "nbformat": 4,
 "nbformat_minor": 4
}
