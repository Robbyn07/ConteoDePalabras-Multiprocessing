{
 "cells": [
  {
   "cell_type": "code",
   "execution_count": 21,
   "metadata": {},
   "outputs": [
    {
     "data": {
      "text/html": "<div>\n<style scoped>\n    .dataframe tbody tr th:only-of-type {\n        vertical-align: middle;\n    }\n\n    .dataframe tbody tr th {\n        vertical-align: top;\n    }\n\n    .dataframe thead th {\n        text-align: right;\n    }\n</style>\n<table border=\"1\" class=\"dataframe\">\n  <thead>\n    <tr style=\"text-align: right;\">\n      <th></th>\n      <th>estrellas</th>\n      <th>titulo</th>\n      <th>opinion</th>\n    </tr>\n  </thead>\n  <tbody>\n    <tr>\n      <th>0</th>\n      <td>3</td>\n      <td>more like funchuck</td>\n      <td>Gave this to my dad for a gag gift after direc...</td>\n    </tr>\n    <tr>\n      <th>1</th>\n      <td>5</td>\n      <td>Inspiring</td>\n      <td>I hope a lot of people hear this cd. We need m...</td>\n    </tr>\n    <tr>\n      <th>2</th>\n      <td>5</td>\n      <td>The best soundtrack ever to anything.</td>\n      <td>I'm reading a lot of reviews saying that this ...</td>\n    </tr>\n  </tbody>\n</table>\n</div>",
      "text/plain": "   estrellas                                 titulo  \\\n0          3                     more like funchuck   \n1          5                              Inspiring   \n2          5  The best soundtrack ever to anything.   \n\n                                             opinion  \n0  Gave this to my dad for a gag gift after direc...  \n1  I hope a lot of people hear this cd. We need m...  \n2  I'm reading a lot of reviews saying that this ...  "
     },
     "execution_count": 21,
     "metadata": {},
     "output_type": "execute_result"
    }
   ],
   "source": "#Lectura del archivo\nimport time\nimport numpy as np \nimport pandas as pd\nfrom collections import Counter\ndatos = pd.read_csv('train.csv', header=None)\ndatos.columns = ['estrellas', 'titulo', 'opinion']\ndatos.head(3)"
  },
  {
   "cell_type": "code",
   "execution_count": 22,
   "metadata": {
    "scrolled": true
   },
   "outputs": [
    {
     "name": "stdout",
     "output_type": "stream",
     "text": "set(['all', 'think', 'just', \"don't\", 'being', 'when', 'over', 'through', 'yourselves', 'its', 'before', 'now', 'how', 'herself', 'had', 'should', 'to', 'only', 'under', 'ours', 'has', 'it.', 'do', 'them', 'his', 'get', 'very', 'they', 'not', 'during', 'one', 'him', 'nor', 'did', 'this', 'she', 'each', 'further', 'where', 'because', 'doing', 'theirs', 'some', 'are', 'our', 'ourselves', 'out', 'what', 'for', 'below', 'cd', 'does', 'above', 'between', 'got', 't', 'be', 'we', 'after', 'here', 'hers', 'by', 'both', 'about', 'of', 'could', 'against', 's', \"i'm\", 'or', 'own', 'into', 'yourself', 'down', 'your', 'from', 'her', 'few', \"it's\", 'there', 'been', 'their', 'too', 'themselves', 'was', 'until', 'more', 'himself', 'on', 'but', 'off', 'with', 'than', 'those', 'he', 'me', 'myself', 'these', 'up', 'will', 'while', 'can', 'were', 'my', 'and', 'then', 'is', 'am', 'it', 'an', 'as', 'itself', 'at', 'have', 'in', 'any', 'whom', 'again', 'no', 'that', '-', 'same', 'read', 'other', 'which', 'you', 'if', 'who', 'most', 'such', 'why', 'a', 'don', 'i', 'having', 'so', 'the', 'yours', 'once'])\n"
    }
   ],
   "source": "#agregacion de stopwords\nstopwords = [\"cd\" ,'i\\'m', 'got', 'think', 'could', 'don\\'t', '-', 'one', 'read', 'get', 'it.', 'it\\'s','ourselves', 'hers', 'between', 'yourself', 'but', 'again', 'there', 'about', 'once', 'during', 'out', 'very', 'having', 'with', 'they', 'own', 'an', 'be', 'some', 'for', 'do', 'its', 'yours', 'such', 'into', 'of', 'most', 'itself', 'other', 'off', 'is', 's', 'am', 'or', 'who', 'as', 'from', 'him', 'each', 'the', 'themselves', 'until', 'below', 'are', 'we', 'these', 'your', 'his', 'through', 'don', 'nor', 'me', 'were', 'her', 'more', 'himself', 'this', 'down', 'should', 'our', 'their', 'while', 'above', 'both', 'up', 'to', 'ours', 'had', 'she', 'all', 'no', 'when', 'at', 'any', 'before', 'them', 'same', 'and', 'been', 'have', 'in', 'will', 'on', 'does', 'yourselves', 'then', 'that', 'because', 'what', 'over', 'why', 'so', 'can', 'did', 'not', 'now', 'under', 'he', 'you', 'herself', 'has', 'just', 'where', 'too', 'only', 'myself', 'which', 'those', 'i', 'after', 'few', 'whom', 't', 'being', 'if', 'theirs', 'my', 'against', 'a', 'by', 'doing', 'it', 'how', 'further', 'was', 'here', 'than']\nstopwords = set(stopwords)\nprint(stopwords)"
  },
  {
   "cell_type": "code",
   "execution_count": 23,
   "metadata": {},
   "outputs": [
    {
     "name": "stdout",
     "output_type": "stream",
     "text": "42.9809741974\n"
    }
   ],
   "source": "#quitar todas las stopwords del dataset\nti = time.time()\ndatos['opinion'] = datos['opinion'].str.lower()\ndatos.loc[:,'opinion'] = datos.loc[:,'opinion'].apply(\n    lambda x: ' '.join([word for word in x.split() if word not in (stopwords)]))\n\nprint(time.time()-ti)"
  },
  {
   "cell_type": "code",
   "execution_count": 24,
   "metadata": {},
   "outputs": [
    {
     "data": {
      "text/html": "<div>\n<style scoped>\n    .dataframe tbody tr th:only-of-type {\n        vertical-align: middle;\n    }\n\n    .dataframe tbody tr th {\n        vertical-align: top;\n    }\n\n    .dataframe thead th {\n        text-align: right;\n    }\n</style>\n<table border=\"1\" class=\"dataframe\">\n  <thead>\n    <tr style=\"text-align: right;\">\n      <th></th>\n      <th>estrellas</th>\n      <th>titulo</th>\n      <th>opinion</th>\n    </tr>\n  </thead>\n  <tbody>\n    <tr>\n      <th>0</th>\n      <td>3</td>\n      <td>more like funchuck</td>\n      <td>gave dad gag gift directing \"nunsense,\" reall ...</td>\n    </tr>\n    <tr>\n      <th>1</th>\n      <td>5</td>\n      <td>Inspiring</td>\n      <td>hope lot people hear cd. need strong positive ...</td>\n    </tr>\n    <tr>\n      <th>2</th>\n      <td>5</td>\n      <td>The best soundtrack ever to anything.</td>\n      <td>reading lot reviews saying best 'game soundtra...</td>\n    </tr>\n  </tbody>\n</table>\n</div>",
      "text/plain": "   estrellas                                 titulo  \\\n0          3                     more like funchuck   \n1          5                              Inspiring   \n2          5  The best soundtrack ever to anything.   \n\n                                             opinion  \n0  gave dad gag gift directing \"nunsense,\" reall ...  \n1  hope lot people hear cd. need strong positive ...  \n2  reading lot reviews saying best 'game soundtra...  "
     },
     "execution_count": 24,
     "metadata": {},
     "output_type": "execute_result"
    }
   ],
   "source": "datos.head(3)"
  },
  {
   "cell_type": "code",
   "execution_count": 25,
   "metadata": {},
   "outputs": [],
   "source": "#separar las listas por las estrellas/rating\ndatos1 = datos[datos.estrellas == 1]\ndatos2 = datos[datos.estrellas == 2]\ndatos3 = datos[datos.estrellas == 3]\ndatos4 = datos[datos.estrellas == 4]\ndatos5 = datos[datos.estrellas == 5]"
  },
  {
   "cell_type": "code",
   "execution_count": 26,
   "metadata": {},
   "outputs": [
    {
     "name": "stdout",
     "output_type": "stream",
     "text": "termina\n"
    }
   ],
   "source": "datos1.to_csv (\"1estrella.csv\", index = False, header=True)\ndatos2.to_csv (\"2estrella.csv\", index = False, header=True)\ndatos3.to_csv (\"3estrella.csv\", index = False, header=True)\ndatos4.to_csv (\"4estrella.csv\", index = False, header=True)\ndatos5.to_csv (\"5estrella.csv\", index = False, header=True)\nprint(\"termina\")"
  },
  {
   "cell_type": "code",
   "execution_count": 15,
   "metadata": {},
   "outputs": [
    {
     "name": "stdout",
     "output_type": "stream",
     "text": "dfsa\n"
    }
   ],
   "source": "print(\"dfsa\")"
  }
 ],
 "metadata": {
  "kernelspec": {
   "display_name": "Python 2",
   "language": "python",
   "name": "python2"
  },
  "language_info": {
   "codemirror_mode": {
    "name": "ipython",
    "version": 2
   },
   "file_extension": ".py",
   "mimetype": "text/x-python",
   "name": "python",
   "nbconvert_exporter": "python",
   "pygments_lexer": "ipython2",
   "version": "2.7.16"
  }
 },
 "nbformat": 4,
 "nbformat_minor": 4
}
